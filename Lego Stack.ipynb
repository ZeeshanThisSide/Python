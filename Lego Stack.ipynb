{
 "cells": [
  {
   "cell_type": "markdown",
   "metadata": {},
   "source": [
    "Description\n",
    "You are given a row of Lego Blocks consisting of n blocks. All the blocks given have a square base whose side length is known. You need to stack the blocks over each other and create a vertical tower. Block-1 can go over Block-2 only if sideLength(Block-2)=>sideLength(Block-1).\n",
    "From the row of Lego blocks, you on only pick up either the leftmost or rightmost block.\n",
    "Print \"Possible\" if it is possible to stack all n cubes this way or else print \"Impossible\".\n",
    "\n",
    "Input Format:\n",
    "The input will contain a list of n integers representing the side length of each block's base in the row starting from the leftmost.\n",
    "\n",
    "Sample Input:\n",
    "[5 ,4, 2, 1, 4 ,5]\n",
    "Sample Output:\n",
    "Possible"
   ]
  },
  {
   "cell_type": "code",
   "execution_count": 2,
   "metadata": {},
   "outputs": [
    {
     "name": "stdout",
     "output_type": "stream",
     "text": [
      "[5 ,4, 2, 1, 4 ,5]\n",
      "Possible\n"
     ]
    }
   ],
   "source": [
    "import ast\n",
    "\n",
    "sides = ast.literal_eval(input('Enter a list of numbers'))\n",
    "tower =[]\n",
    "while sides:\n",
    "    if sides[0]>=sides[-1]:\n",
    "        tower.append(sides[0])\n",
    "        sides.remove(sides[0])\n",
    "    else:\n",
    "        tower.append(sides[-1])\n",
    "        sides.remove(sides[-1])\n",
    "\n",
    "flag = 1\n",
    "for i in range(1,len(tower)):\n",
    "    if tower[i-1]<tower[i]:\n",
    "        print('Impossible')\n",
    "        flag = 0\n",
    "        break\n",
    "if flag == 1:\n",
    "    print('Possible')"
   ]
  },
  {
   "cell_type": "code",
   "execution_count": null,
   "metadata": {},
   "outputs": [],
   "source": []
  }
 ],
 "metadata": {
  "kernelspec": {
   "display_name": "Python 3",
   "language": "python",
   "name": "python3"
  },
  "language_info": {
   "codemirror_mode": {
    "name": "ipython",
    "version": 3
   },
   "file_extension": ".py",
   "mimetype": "text/x-python",
   "name": "python",
   "nbconvert_exporter": "python",
   "pygments_lexer": "ipython3",
   "version": "3.8.5"
  }
 },
 "nbformat": 4,
 "nbformat_minor": 4
}
