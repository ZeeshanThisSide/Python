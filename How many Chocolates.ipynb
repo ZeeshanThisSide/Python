{
 "cells": [
  {
   "cell_type": "markdown",
   "metadata": {},
   "source": [
    "### Sanjay loves chocolates. He goes to a shop to buy his favourite chocolate. There he notices there is an offer going on, upon bringing a particular number of wrappers of the same chocolate, you will get new chocolate for free. If Sanjay has m (money) Rupees and r (rate_of_wrapper). How many chocolates will he be able to eat if each chocolate costs c (choc_price) Rupees? "
   ]
  },
  {
   "cell_type": "code",
   "execution_count": 1,
   "metadata": {},
   "outputs": [
    {
     "name": "stdout",
     "output_type": "stream",
     "text": [
      "Enter money, choc_price, rate_of_wrapper: 15,2,3\n",
      "10\n"
     ]
    }
   ],
   "source": [
    "# Taking inputs\n",
    "\n",
    "my_string = input('Enter money, choc_price, rate_of_wrapper: ')\n",
    "my_list = my_string.split(',')\n",
    "money = int(my_list[0])\n",
    "choc_price = int(my_list[1])\n",
    "rate_of_wrapper = int(my_list[2])\n",
    "\n",
    "# Basic Calculation\n",
    "\n",
    "choc_quantity  = money//choc_price\n",
    "wrapper = money//choc_price\n",
    "\n",
    "# looping for wrappers\n",
    "\n",
    "while wrapper//rate_of_wrapper != 0:\n",
    "    choc_quantity = choc_quantity + wrapper//rate_of_wrapper\n",
    "    wrapper = wrapper % rate_of_wrapper + wrapper // rate_of_wrapper\n",
    "    \n",
    "print(choc_quantity)"
   ]
  },
  {
   "cell_type": "code",
   "execution_count": null,
   "metadata": {},
   "outputs": [],
   "source": []
  }
 ],
 "metadata": {
  "kernelspec": {
   "display_name": "Python 3",
   "language": "python",
   "name": "python3"
  },
  "language_info": {
   "codemirror_mode": {
    "name": "ipython",
    "version": 3
   },
   "file_extension": ".py",
   "mimetype": "text/x-python",
   "name": "python",
   "nbconvert_exporter": "python",
   "pygments_lexer": "ipython3",
   "version": "3.8.5"
  }
 },
 "nbformat": 4,
 "nbformat_minor": 4
}
