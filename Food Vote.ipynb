{
 "cells": [
  {
   "cell_type": "markdown",
   "metadata": {},
   "source": [
    "Your team is going for camping and you are taking a vote to decide what food to pack for dinner.\n",
    "Everyone gets a vote and the food item that gets most votes wins. \n",
    "None of the items wins if there is a tie. \n",
    "Assume that every person gets only one vote.\n",
    "The input will contain a list of food items where each occurrence of an item represents one vote. \n",
    "You should print the winning food item as output. If there is no clear winner, print \"NOTA\".\n",
    "\n",
    "Sample input : [\"pasta\",\"pasta\",\"pasta\",\"paratha\",\"paratha\",\"paratha\",\"rice\",\"rice\",\"rice\",\"rice\"]\n",
    "Sample output : rice"
   ]
  },
  {
   "cell_type": "code",
   "execution_count": 3,
   "metadata": {},
   "outputs": [
    {
     "ename": "TypeError",
     "evalue": "values() takes no arguments (1 given)",
     "output_type": "error",
     "traceback": [
      "\u001b[1;31m---------------------------------------------------------------------------\u001b[0m",
      "\u001b[1;31mTypeError\u001b[0m                                 Traceback (most recent call last)",
      "\u001b[1;32m<ipython-input-3-b9f3377345f6>\u001b[0m in \u001b[0;36m<module>\u001b[1;34m\u001b[0m\n\u001b[1;32m----> 1\u001b[1;33m \u001b[0mprint\u001b[0m\u001b[1;33m(\u001b[0m\u001b[0md\u001b[0m\u001b[1;33m.\u001b[0m\u001b[0mvalues\u001b[0m\u001b[1;33m(\u001b[0m\u001b[1;36m2\u001b[0m\u001b[1;33m)\u001b[0m\u001b[1;33m)\u001b[0m\u001b[1;33m\u001b[0m\u001b[1;33m\u001b[0m\u001b[0m\n\u001b[0m",
      "\u001b[1;31mTypeError\u001b[0m: values() takes no arguments (1 given)"
     ]
    }
   ],
   "source": [
    "import ast,sys\n",
    "input_str = sys.stdin.read()\n",
    "votes = ast.literal_eval(input_str)\n",
    "\n",
    "d = {}\n",
    "\n",
    "for i in votes:\n",
    "    if i not in d:\n",
    "        d[i]=1\n",
    "    else:\n",
    "        d[i] = d[i]+1\n",
    "\n",
    "m = max(d.values())\n",
    "c = {}\n",
    "for i in d.values():\n",
    "    if i not in c:\n",
    "        c[i] = 1\n",
    "    else:\n",
    "        c[i] = c[i] + 1\n",
    "\n",
    "if c[m]== 1:\n",
    "    for key, value in d.items():\n",
    "        if value == m:\n",
    "            print(key)\n",
    "else:\n",
    "    print('NOTA')\n",
    "    "
   ]
  },
  {
   "cell_type": "code",
   "execution_count": null,
   "metadata": {},
   "outputs": [],
   "source": []
  }
 ],
 "metadata": {
  "kernelspec": {
   "display_name": "Python 3",
   "language": "python",
   "name": "python3"
  },
  "language_info": {
   "codemirror_mode": {
    "name": "ipython",
    "version": 3
   },
   "file_extension": ".py",
   "mimetype": "text/x-python",
   "name": "python",
   "nbconvert_exporter": "python",
   "pygments_lexer": "ipython3",
   "version": "3.8.5"
  }
 },
 "nbformat": 4,
 "nbformat_minor": 4
}
