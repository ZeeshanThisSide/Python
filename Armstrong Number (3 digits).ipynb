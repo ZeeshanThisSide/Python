{
 "cells": [
  {
   "cell_type": "markdown",
   "metadata": {},
   "source": [
    "### Check if a 3 digit number is a Armstrong number"
   ]
  },
  {
   "cell_type": "code",
   "execution_count": 25,
   "metadata": {},
   "outputs": [
    {
     "name": "stdout",
     "output_type": "stream",
     "text": [
      "153\n",
      "True\n"
     ]
    }
   ],
   "source": [
    "n = int(input())\n",
    "copy_n = n\n",
    "sum_digits = 0\n",
    "while copy_n != 0:\n",
    "    last_digit = copy_n%10\n",
    "    sum_digits = sum_digits + (last_digit ** 3)\n",
    "    copy_n = copy_n//10\n",
    "    \n",
    "if sum_digits == n:\n",
    "    print(True)\n",
    "else:\n",
    "    print(False)"
   ]
  },
  {
   "cell_type": "code",
   "execution_count": 29,
   "metadata": {},
   "outputs": [
    {
     "name": "stdout",
     "output_type": "stream",
     "text": [
      "154\n",
      "False\n"
     ]
    }
   ],
   "source": [
    "# ALternatively\n",
    "n = int(input())\n",
    "num = n\n",
    "digits = list(map(int,str(num)))\n",
    "s = sum(list(map(lambda x:x**3, digits)))\n",
    "print(s==num)"
   ]
  },
  {
   "cell_type": "code",
   "execution_count": null,
   "metadata": {},
   "outputs": [],
   "source": []
  }
 ],
 "metadata": {
  "kernelspec": {
   "display_name": "Python 3",
   "language": "python",
   "name": "python3"
  },
  "language_info": {
   "codemirror_mode": {
    "name": "ipython",
    "version": 3
   },
   "file_extension": ".py",
   "mimetype": "text/x-python",
   "name": "python",
   "nbconvert_exporter": "python",
   "pygments_lexer": "ipython3",
   "version": "3.8.5"
  }
 },
 "nbformat": 4,
 "nbformat_minor": 4
}
