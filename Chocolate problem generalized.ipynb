{
 "cells": [
  {
   "cell_type": "code",
   "execution_count": 7,
   "metadata": {},
   "outputs": [
    {
     "name": "stdout",
     "output_type": "stream",
     "text": [
      "15, 2, 3, 2\n",
      "17\n"
     ]
    }
   ],
   "source": [
    "z = input()\n",
    "n = z.split(',')\n",
    "m = int(n[0])\n",
    "c = int(n[1])\n",
    "w = int(n[2])\n",
    "k = int(n[3])\n",
    "\n",
    "choco = m//c\n",
    "wrapper = m//c\n",
    "\n",
    "while wrapper//w != 0:\n",
    "    ex = wrapper//w\n",
    "    extra_choco = ex*k\n",
    "    choco = choco + extra_choco\n",
    "    wrapper = wrapper % w + extra_choco\n",
    "print(choco)"
   ]
  },
  {
   "cell_type": "code",
   "execution_count": null,
   "metadata": {},
   "outputs": [],
   "source": []
  }
 ],
 "metadata": {
  "kernelspec": {
   "display_name": "Python 3",
   "language": "python",
   "name": "python3"
  },
  "language_info": {
   "codemirror_mode": {
    "name": "ipython",
    "version": 3
   },
   "file_extension": ".py",
   "mimetype": "text/x-python",
   "name": "python",
   "nbconvert_exporter": "python",
   "pygments_lexer": "ipython3",
   "version": "3.8.5"
  }
 },
 "nbformat": 4,
 "nbformat_minor": 4
}
