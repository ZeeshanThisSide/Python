{
 "cells": [
  {
   "cell_type": "code",
   "execution_count": 33,
   "metadata": {},
   "outputs": [
    {
     "name": "stdout",
     "output_type": "stream",
     "text": [
      "6\n",
      "----------f----------\n",
      "--------f-e-f--------\n",
      "------f-e-d-e-f------\n",
      "----f-e-d-c-d-e-f----\n",
      "--f-e-d-c-b-c-d-e-f--\n",
      "f-e-d-c-b-a-b-c-d-e-f\n",
      "--f-e-d-c-b-c-d-e-f--\n",
      "----f-e-d-c-d-e-f----\n",
      "------f-e-d-e-f------\n",
      "--------f-e-f--------\n",
      "----------f----------\n"
     ]
    }
   ],
   "source": [
    "n = int(input())\n",
    "for i in range(1,n+1):\n",
    "    \n",
    "    #printing '--'\n",
    "    for j in range(n-i,0,-1):\n",
    "        print('--', end='')\n",
    "    \n",
    "    #print alphabets in decreasing order\n",
    "    for k in range(i-1):\n",
    "        print(chr(97+n-1-k),end='-')\n",
    "    \n",
    "    #printing alphabets in increasing order\n",
    "    for k in range(i-1):\n",
    "        print(chr(97+n-i+k),end='-')\n",
    "\n",
    "    print(chr(97+n-1),end='')    \n",
    "    #printing '--'\n",
    "    \n",
    "    for j in range(n-i,0,-1):\n",
    "        print('--', end='')\n",
    "\n",
    "    \n",
    "    # next line\n",
    "    print()\n",
    "    \n",
    "for i in range(n-1,0,-1):\n",
    "    \n",
    "    #printing '--'\n",
    "    for j in range(n-i,0,-1):\n",
    "        print('--', end='')\n",
    "    \n",
    "    #print alphabets in decreasing order\n",
    "    for k in range(i-1):\n",
    "        print(chr(97+n-1-k),end='-')\n",
    "    \n",
    "    #printing alphabets in increasing order\n",
    "    for k in range(i-1):\n",
    "        print(chr(97+n-i+k),end='-')\n",
    "\n",
    "    print(chr(97+n-1),end='')    \n",
    "    #printing '--'\n",
    "    \n",
    "    for j in range(n-i,0,-1):\n",
    "        print('--', end='')\n",
    "\n",
    "    \n",
    "    # next line\n",
    "    print()"
   ]
  },
  {
   "cell_type": "code",
   "execution_count": null,
   "metadata": {},
   "outputs": [],
   "source": []
  }
 ],
 "metadata": {
  "kernelspec": {
   "display_name": "Python 3",
   "language": "python",
   "name": "python3"
  },
  "language_info": {
   "codemirror_mode": {
    "name": "ipython",
    "version": 3
   },
   "file_extension": ".py",
   "mimetype": "text/x-python",
   "name": "python",
   "nbconvert_exporter": "python",
   "pygments_lexer": "ipython3",
   "version": "3.8.5"
  }
 },
 "nbformat": 4,
 "nbformat_minor": 4
}
